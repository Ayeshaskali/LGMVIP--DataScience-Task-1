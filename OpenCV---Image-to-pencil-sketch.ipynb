{
 "cells": [
  {
   "cell_type": "code",
   "execution_count": 1,
   "id": "cdebda12",
   "metadata": {},
   "outputs": [
    {
     "name": "stdout",
     "output_type": "stream",
     "text": [
      "Collecting opencv-python\n",
      "  Obtaining dependency information for opencv-python from https://files.pythonhosted.org/packages/77/df/b56175c3fb5bc058774bdcf35f5a71cf9c3c5b909f98a1c688eb71cd3b1f/opencv_python-4.9.0.80-cp37-abi3-macosx_11_0_arm64.whl.metadata\n",
      "  Downloading opencv_python-4.9.0.80-cp37-abi3-macosx_11_0_arm64.whl.metadata (20 kB)\n",
      "Requirement already satisfied: numpy>=1.21.2 in ./anaconda3/lib/python3.11/site-packages (from opencv-python) (1.24.3)\n",
      "Downloading opencv_python-4.9.0.80-cp37-abi3-macosx_11_0_arm64.whl (35.4 MB)\n",
      "\u001b[2K   \u001b[90m━━━━━━━━━━━━━━━━━━━━━━━━━━━━━━━━━━━━━━━━\u001b[0m \u001b[32m35.4/35.4 MB\u001b[0m \u001b[31m693.7 kB/s\u001b[0m eta \u001b[36m0:00:00\u001b[0m00:01\u001b[0m00:02\u001b[0m\n",
      "\u001b[?25hInstalling collected packages: opencv-python\n",
      "Successfully installed opencv-python-4.9.0.80\n",
      "Note: you may need to restart the kernel to use updated packages.\n"
     ]
    }
   ],
   "source": [
    "pip install opencv-python"
   ]
  },
  {
   "cell_type": "code",
   "execution_count": 2,
   "id": "a44d5df6",
   "metadata": {},
   "outputs": [],
   "source": [
    "import cv2"
   ]
  },
  {
   "cell_type": "code",
   "execution_count": 3,
   "id": "114afe10",
   "metadata": {},
   "outputs": [],
   "source": [
    "img_location = '/Users/shaikayesha/Downloads/Shaik Ayesha.jpeg'"
   ]
  },
  {
   "cell_type": "code",
   "execution_count": 4,
   "id": "99d2b007",
   "metadata": {},
   "outputs": [],
   "source": [
    "filename = 'Shaik Ayesha.jpeg'"
   ]
  },
  {
   "cell_type": "code",
   "execution_count": 7,
   "id": "3557c63e",
   "metadata": {},
   "outputs": [],
   "source": [
    "img = cv2.imread('/Users/shaikayesha/Downloads/Shaik Ayesha.jpeg')\n"
   ]
  },
  {
   "cell_type": "code",
   "execution_count": 9,
   "id": "5b577503",
   "metadata": {},
   "outputs": [],
   "source": [
    "import cv2\n",
    "\n",
    "# Load an image (replace 'your_image_path.jpg' with the actual path to your image)\n",
    "image = cv2.imread('/Users/shaikayesha/Downloads/Shaik Ayesha.jpeg')\n",
    "\n",
    "# Convert the image to grayscale\n",
    "gray_image = cv2.cvtColor(image, cv2.COLOR_BGR2GRAY)\n",
    "\n",
    "# Invert the colors of the grayscale image\n",
    "inverted_gray_image = 255 - gray_image\n",
    "\n",
    "# Now you can use the inverted_gray_image variable in your further processing.\n"
   ]
  },
  {
   "cell_type": "code",
   "execution_count": 10,
   "id": "e542657c",
   "metadata": {},
   "outputs": [],
   "source": [
    "blurred_image = cv2.GaussianBlur(inverted_gray_image, (21, 21), 0)"
   ]
  },
  {
   "cell_type": "code",
   "execution_count": 11,
   "id": "bebcf6bb",
   "metadata": {},
   "outputs": [],
   "source": [
    "inverted_blurred_image = 255 - blurred_image"
   ]
  },
  {
   "cell_type": "code",
   "execution_count": 12,
   "id": "125af17d",
   "metadata": {},
   "outputs": [],
   "source": [
    "pencil_sketch_image = cv2.divide(gray_image, inverted_blurred_image, scale = 256.0)"
   ]
  },
  {
   "cell_type": "code",
   "execution_count": 13,
   "id": "2fe3d1a5",
   "metadata": {},
   "outputs": [],
   "source": [
    "cv2.imshow('Original Image', img)"
   ]
  },
  {
   "cell_type": "code",
   "execution_count": 14,
   "id": "fe7d6974",
   "metadata": {},
   "outputs": [],
   "source": [
    "cv2.imshow('New Image', pencil_sketch_image)"
   ]
  },
  {
   "cell_type": "code",
   "execution_count": null,
   "id": "44b385e6",
   "metadata": {},
   "outputs": [],
   "source": [
    "cv2.waitKey(0)"
   ]
  },
  {
   "cell_type": "code",
   "execution_count": null,
   "id": "39748c49",
   "metadata": {},
   "outputs": [],
   "source": []
  }
 ],
 "metadata": {
  "kernelspec": {
   "display_name": "Python 3 (ipykernel)",
   "language": "python",
   "name": "python3"
  },
  "language_info": {
   "codemirror_mode": {
    "name": "ipython",
    "version": 3
   },
   "file_extension": ".py",
   "mimetype": "text/x-python",
   "name": "python",
   "nbconvert_exporter": "python",
   "pygments_lexer": "ipython3",
   "version": "3.11.5"
  }
 },
 "nbformat": 4,
 "nbformat_minor": 5
}
