{
 "cells": [
  {
   "cell_type": "code",
   "execution_count": 1,
   "id": "c0dfcdea",
   "metadata": {},
   "outputs": [],
   "source": [
    "import pandas as pd\n",
    "import os\n",
    "import numpy as np\n",
    "\n",
    "import tensorflow as tf\n",
    "from tensorflow.keras.preprocessing.sequence import pad_sequences\n",
    "from tensorflow.keras.layers import Embedding, LSTM, Dense, Bidirectional\n",
    "from tensorflow.keras.preprocessing.text import Tokenizer\n",
    "from tensorflow.keras.models import Sequential\n",
    "from tensorflow.keras.optimizers import Adam"
   ]
  },
  {
   "cell_type": "code",
   "execution_count": 2,
   "id": "7066c906",
   "metadata": {},
   "outputs": [
    {
     "data": {
      "text/html": [
       "<div>\n",
       "<style scoped>\n",
       "    .dataframe tbody tr th:only-of-type {\n",
       "        vertical-align: middle;\n",
       "    }\n",
       "\n",
       "    .dataframe tbody tr th {\n",
       "        vertical-align: top;\n",
       "    }\n",
       "\n",
       "    .dataframe thead th {\n",
       "        text-align: right;\n",
       "    }\n",
       "</style>\n",
       "<table border=\"1\" class=\"dataframe\">\n",
       "  <thead>\n",
       "    <tr style=\"text-align: right;\">\n",
       "      <th></th>\n",
       "      <th>id</th>\n",
       "      <th>url</th>\n",
       "      <th>title</th>\n",
       "      <th>subtitle</th>\n",
       "      <th>image</th>\n",
       "      <th>claps</th>\n",
       "      <th>responses</th>\n",
       "      <th>reading_time</th>\n",
       "      <th>publication</th>\n",
       "      <th>date</th>\n",
       "    </tr>\n",
       "  </thead>\n",
       "  <tbody>\n",
       "    <tr>\n",
       "      <th>0</th>\n",
       "      <td>1</td>\n",
       "      <td>https://towardsdatascience.com/a-beginners-gui...</td>\n",
       "      <td>A Beginner’s Guide to Word Embedding with Gens...</td>\n",
       "      <td>NaN</td>\n",
       "      <td>1.png</td>\n",
       "      <td>850</td>\n",
       "      <td>8</td>\n",
       "      <td>8</td>\n",
       "      <td>Towards Data Science</td>\n",
       "      <td>2019-05-30</td>\n",
       "    </tr>\n",
       "    <tr>\n",
       "      <th>1</th>\n",
       "      <td>2</td>\n",
       "      <td>https://towardsdatascience.com/hands-on-graph-...</td>\n",
       "      <td>Hands-on Graph Neural Networks with PyTorch &amp; ...</td>\n",
       "      <td>NaN</td>\n",
       "      <td>2.png</td>\n",
       "      <td>1100</td>\n",
       "      <td>11</td>\n",
       "      <td>9</td>\n",
       "      <td>Towards Data Science</td>\n",
       "      <td>2019-05-30</td>\n",
       "    </tr>\n",
       "    <tr>\n",
       "      <th>2</th>\n",
       "      <td>3</td>\n",
       "      <td>https://towardsdatascience.com/how-to-use-ggpl...</td>\n",
       "      <td>How to Use ggplot2 in Python</td>\n",
       "      <td>A Grammar of Graphics for Python</td>\n",
       "      <td>3.png</td>\n",
       "      <td>767</td>\n",
       "      <td>1</td>\n",
       "      <td>5</td>\n",
       "      <td>Towards Data Science</td>\n",
       "      <td>2019-05-30</td>\n",
       "    </tr>\n",
       "    <tr>\n",
       "      <th>3</th>\n",
       "      <td>4</td>\n",
       "      <td>https://towardsdatascience.com/databricks-how-...</td>\n",
       "      <td>Databricks: How to Save Files in CSV on Your L...</td>\n",
       "      <td>When I work on Python projects dealing…</td>\n",
       "      <td>4.jpeg</td>\n",
       "      <td>354</td>\n",
       "      <td>0</td>\n",
       "      <td>4</td>\n",
       "      <td>Towards Data Science</td>\n",
       "      <td>2019-05-30</td>\n",
       "    </tr>\n",
       "    <tr>\n",
       "      <th>4</th>\n",
       "      <td>5</td>\n",
       "      <td>https://towardsdatascience.com/a-step-by-step-...</td>\n",
       "      <td>A Step-by-Step Implementation of Gradient Desc...</td>\n",
       "      <td>One example of building neural…</td>\n",
       "      <td>5.jpeg</td>\n",
       "      <td>211</td>\n",
       "      <td>3</td>\n",
       "      <td>4</td>\n",
       "      <td>Towards Data Science</td>\n",
       "      <td>2019-05-30</td>\n",
       "    </tr>\n",
       "  </tbody>\n",
       "</table>\n",
       "</div>"
      ],
      "text/plain": [
       "   id                                                url  \\\n",
       "0   1  https://towardsdatascience.com/a-beginners-gui...   \n",
       "1   2  https://towardsdatascience.com/hands-on-graph-...   \n",
       "2   3  https://towardsdatascience.com/how-to-use-ggpl...   \n",
       "3   4  https://towardsdatascience.com/databricks-how-...   \n",
       "4   5  https://towardsdatascience.com/a-step-by-step-...   \n",
       "\n",
       "                                               title  \\\n",
       "0  A Beginner’s Guide to Word Embedding with Gens...   \n",
       "1  Hands-on Graph Neural Networks with PyTorch & ...   \n",
       "2                       How to Use ggplot2 in Python   \n",
       "3  Databricks: How to Save Files in CSV on Your L...   \n",
       "4  A Step-by-Step Implementation of Gradient Desc...   \n",
       "\n",
       "                                  subtitle   image  claps responses  \\\n",
       "0                                      NaN   1.png    850         8   \n",
       "1                                      NaN   2.png   1100        11   \n",
       "2         A Grammar of Graphics for Python   3.png    767         1   \n",
       "3  When I work on Python projects dealing…  4.jpeg    354         0   \n",
       "4          One example of building neural…  5.jpeg    211         3   \n",
       "\n",
       "   reading_time           publication        date  \n",
       "0             8  Towards Data Science  2019-05-30  \n",
       "1             9  Towards Data Science  2019-05-30  \n",
       "2             5  Towards Data Science  2019-05-30  \n",
       "3             4  Towards Data Science  2019-05-30  \n",
       "4             4  Towards Data Science  2019-05-30  "
      ]
     },
     "execution_count": 2,
     "metadata": {},
     "output_type": "execute_result"
    }
   ],
   "source": [
    "medium_data = pd.read_csv('/Users/shaikayesha/Downloads/medium_data.csv')\n",
    "medium_data.head()"
   ]
  },
  {
   "cell_type": "code",
   "execution_count": 3,
   "id": "86109ece",
   "metadata": {},
   "outputs": [
    {
     "name": "stdout",
     "output_type": "stream",
     "text": [
      "Number of records:  6508\n",
      "Number of fields:  10\n"
     ]
    }
   ],
   "source": [
    "print(\"Number of records: \", medium_data.shape[0])\n",
    "print(\"Number of fields: \", medium_data.shape[1])"
   ]
  },
  {
   "cell_type": "code",
   "execution_count": 4,
   "id": "1cf4f677",
   "metadata": {},
   "outputs": [
    {
     "data": {
      "text/plain": [
       "0       A Beginner’s Guide to Word Embedding with Gens...\n",
       "1       Hands-on Graph Neural Networks with PyTorch & ...\n",
       "2                            How to Use ggplot2 in Python\n",
       "3       Databricks: How to Save Files in CSV on Your L...\n",
       "4       A Step-by-Step Implementation of Gradient Desc...\n",
       "                              ...                        \n",
       "6503    “We” vs “I” — How Should You Talk About Yourse...\n",
       "6504                     How Donald Trump Markets Himself\n",
       "6505        Content and Marketing Beyond Mass Consumption\n",
       "6506    5 Questions All Copywriters Should Ask Clients...\n",
       "6507               How To Write a Good Business Blog Post\n",
       "Name: title, Length: 6508, dtype: object"
      ]
     },
     "execution_count": 4,
     "metadata": {},
     "output_type": "execute_result"
    }
   ],
   "source": [
    "medium_data['title']"
   ]
  },
  {
   "cell_type": "code",
   "execution_count": 5,
   "id": "8e9ac34f",
   "metadata": {},
   "outputs": [],
   "source": [
    "medium_data['title'] = medium_data['title'].apply(lambda x: x.replace(u'\\xa0',u' '))\n",
    "medium_data['title'] = medium_data['title'].apply(lambda x: x.replace('\\u200a',' '))\n"
   ]
  },
  {
   "cell_type": "code",
   "execution_count": 7,
   "id": "cccf0a4f",
   "metadata": {},
   "outputs": [
    {
     "name": "stdout",
     "output_type": "stream",
     "text": [
      "Total number of words:  8238\n",
      "Word: ID\n",
      "------------\n",
      "<oov>:  1\n",
      "Strong:  4\n",
      "And:  8\n",
      "Consumption:  8237\n"
     ]
    }
   ],
   "source": [
    "tokenizer = Tokenizer(oov_token='<oov>') # For those words which are not found in word_index\n",
    "tokenizer.fit_on_texts(medium_data['title'])\n",
    "total_words = len(tokenizer.word_index) + 1\n",
    "\n",
    "print(\"Total number of words: \", total_words)\n",
    "print(\"Word: ID\")\n",
    "print(\"------------\")\n",
    "print(\"<oov>: \", tokenizer.word_index['<oov>'])\n",
    "print(\"Strong: \", tokenizer.word_index['strong'])\n",
    "print(\"And: \", tokenizer.word_index['and'])\n",
    "print(\"Consumption: \", tokenizer.word_index['consumption'])\n"
   ]
  },
  {
   "cell_type": "code",
   "execution_count": 8,
   "id": "47611b01",
   "metadata": {},
   "outputs": [
    {
     "name": "stdout",
     "output_type": "stream",
     "text": [
      "Total input sequences:  48461\n"
     ]
    }
   ],
   "source": [
    "input_sequences = []\n",
    "for line in medium_data['title']:\n",
    "    token_list = tokenizer.texts_to_sequences([line])[0]\n",
    "    #print(token_list)\n",
    "    \n",
    "    for i in range(1, len(token_list)):\n",
    "        n_gram_sequence = token_list[:i+1]\n",
    "        input_sequences.append(n_gram_sequence)\n",
    "\n",
    "# print(input_sequences)\n",
    "print(\"Total input sequences: \", len(input_sequences))"
   ]
  },
  {
   "cell_type": "code",
   "execution_count": 9,
   "id": "1c9062e0",
   "metadata": {},
   "outputs": [
    {
     "data": {
      "text/plain": [
       "array([  0,   0,   0,   0,   0,   0,   0,   0,   0,   0,   0,   0,   0,\n",
       "         0,   0,   0,   0,   0,   0,   0,   0,   0,   0,   0,   0,   0,\n",
       "         0,   0,   0,   0,   0,   0,   0,   0,   0,   0,   0,   5, 676,\n",
       "        68], dtype=int32)"
      ]
     },
     "execution_count": 9,
     "metadata": {},
     "output_type": "execute_result"
    }
   ],
   "source": [
    "# pad sequences \n",
    "max_sequence_len = max([len(x) for x in input_sequences])\n",
    "input_sequences = np.array(pad_sequences(input_sequences, maxlen=max_sequence_len, padding='pre'))\n",
    "input_sequences[1]"
   ]
  },
  {
   "cell_type": "code",
   "execution_count": 10,
   "id": "631558bf",
   "metadata": {},
   "outputs": [
    {
     "name": "stdout",
     "output_type": "stream",
     "text": [
      "[   0    0    0    0    0    0    0    0    0    0    0    0    0    0\n",
      "    0    0    0    0    0    0    0    0    0    0    0    0    0    0\n",
      "    0    0    0    0    0    5  676   68    2  452 1518]\n",
      "14\n",
      "1.0\n"
     ]
    }
   ],
   "source": [
    "# create features and label\n",
    "xs, labels = input_sequences[:,:-1],input_sequences[:,-1]\n",
    "ys = tf.keras.utils.to_categorical(labels, num_classes=total_words)\n",
    "\n",
    "\n",
    "print(xs[5])\n",
    "print(labels[5])\n",
    "print(ys[5][14])"
   ]
  },
  {
   "cell_type": "code",
   "execution_count": 11,
   "id": "b9c1b58c",
   "metadata": {},
   "outputs": [
    {
     "name": "stderr",
     "output_type": "stream",
     "text": [
      "WARNING:absl:At this time, the v2.11+ optimizer `tf.keras.optimizers.Adam` runs slowly on M1/M2 Macs, please use the legacy Keras optimizer instead, located at `tf.keras.optimizers.legacy.Adam`.\n",
      "WARNING:absl:`lr` is deprecated in Keras optimizer, please use `learning_rate` or use the legacy optimizer, e.g.,tf.keras.optimizers.legacy.Adam.\n"
     ]
    },
    {
     "name": "stdout",
     "output_type": "stream",
     "text": [
      "Epoch 1/50\n",
      "1515/1515 [==============================] - 55s 36ms/step - loss: 6.9912 - accuracy: 0.0847\n",
      "Epoch 2/50\n",
      "1515/1515 [==============================] - 55s 36ms/step - loss: 6.1625 - accuracy: 0.1384\n",
      "Epoch 3/50\n",
      "1515/1515 [==============================] - 60s 40ms/step - loss: 5.6359 - accuracy: 0.1673\n",
      "Epoch 4/50\n",
      "1515/1515 [==============================] - 61s 41ms/step - loss: 5.1550 - accuracy: 0.1922\n",
      "Epoch 5/50\n",
      "1515/1515 [==============================] - 62s 41ms/step - loss: 4.7031 - accuracy: 0.2146\n",
      "Epoch 6/50\n",
      "1515/1515 [==============================] - 64s 42ms/step - loss: 4.2857 - accuracy: 0.2440\n",
      "Epoch 7/50\n",
      "1515/1515 [==============================] - 62s 41ms/step - loss: 3.8933 - accuracy: 0.2828\n",
      "Epoch 8/50\n",
      "1515/1515 [==============================] - 62s 41ms/step - loss: 3.5209 - accuracy: 0.3336\n",
      "Epoch 9/50\n",
      "1515/1515 [==============================] - 64s 42ms/step - loss: 3.1756 - accuracy: 0.3885\n",
      "Epoch 10/50\n",
      "1515/1515 [==============================] - 67s 44ms/step - loss: 2.8618 - accuracy: 0.4429\n",
      "Epoch 11/50\n",
      "1515/1515 [==============================] - 67s 45ms/step - loss: 2.5800 - accuracy: 0.4934\n",
      "Epoch 12/50\n",
      "1515/1515 [==============================] - 64s 42ms/step - loss: 2.3285 - accuracy: 0.5400\n",
      "Epoch 13/50\n",
      "1515/1515 [==============================] - 65s 43ms/step - loss: 2.1051 - accuracy: 0.5837\n",
      "Epoch 14/50\n",
      "1515/1515 [==============================] - 66s 44ms/step - loss: 1.9047 - accuracy: 0.6195\n",
      "Epoch 15/50\n",
      "1515/1515 [==============================] - 65s 43ms/step - loss: 1.7296 - accuracy: 0.6561\n",
      "Epoch 16/50\n",
      "1515/1515 [==============================] - 66s 44ms/step - loss: 1.5738 - accuracy: 0.6869\n",
      "Epoch 17/50\n",
      "1515/1515 [==============================] - 71s 47ms/step - loss: 1.4369 - accuracy: 0.7130\n",
      "Epoch 18/50\n",
      "1515/1515 [==============================] - 74s 49ms/step - loss: 1.3153 - accuracy: 0.7374\n",
      "Epoch 19/50\n",
      "1515/1515 [==============================] - 67s 44ms/step - loss: 1.2104 - accuracy: 0.7579\n",
      "Epoch 20/50\n",
      "1515/1515 [==============================] - 66s 44ms/step - loss: 1.1205 - accuracy: 0.7764\n",
      "Epoch 21/50\n",
      "1515/1515 [==============================] - 65s 43ms/step - loss: 1.0396 - accuracy: 0.7907\n",
      "Epoch 22/50\n",
      "1515/1515 [==============================] - 71s 47ms/step - loss: 0.9718 - accuracy: 0.8040\n",
      "Epoch 23/50\n",
      "1515/1515 [==============================] - 69s 45ms/step - loss: 0.9150 - accuracy: 0.8133\n",
      "Epoch 24/50\n",
      "1515/1515 [==============================] - 66s 44ms/step - loss: 0.8638 - accuracy: 0.8224\n",
      "Epoch 25/50\n",
      "1515/1515 [==============================] - 65s 43ms/step - loss: 0.8216 - accuracy: 0.8283\n",
      "Epoch 26/50\n",
      "1515/1515 [==============================] - 70s 46ms/step - loss: 0.7850 - accuracy: 0.8343\n",
      "Epoch 27/50\n",
      "1515/1515 [==============================] - 69s 46ms/step - loss: 0.7578 - accuracy: 0.8379\n",
      "Epoch 28/50\n",
      "1515/1515 [==============================] - 71s 47ms/step - loss: 0.7291 - accuracy: 0.8424\n",
      "Epoch 29/50\n",
      "1515/1515 [==============================] - 72s 47ms/step - loss: 0.7072 - accuracy: 0.8452\n",
      "Epoch 30/50\n",
      "1515/1515 [==============================] - 70s 46ms/step - loss: 0.6871 - accuracy: 0.8473\n",
      "Epoch 31/50\n",
      "1515/1515 [==============================] - 72s 47ms/step - loss: 0.6713 - accuracy: 0.8490\n",
      "Epoch 32/50\n",
      "1515/1515 [==============================] - 67s 44ms/step - loss: 0.6581 - accuracy: 0.8508\n",
      "Epoch 33/50\n",
      "1515/1515 [==============================] - 69s 45ms/step - loss: 0.6464 - accuracy: 0.8512\n",
      "Epoch 34/50\n",
      "1515/1515 [==============================] - 82s 54ms/step - loss: 0.6351 - accuracy: 0.8519\n",
      "Epoch 35/50\n",
      "1515/1515 [==============================] - 68s 45ms/step - loss: 0.6275 - accuracy: 0.8525\n",
      "Epoch 36/50\n",
      "1515/1515 [==============================] - 66s 43ms/step - loss: 0.6185 - accuracy: 0.8533\n",
      "Epoch 37/50\n",
      "1515/1515 [==============================] - 65s 43ms/step - loss: 0.6128 - accuracy: 0.8535\n",
      "Epoch 38/50\n",
      "1515/1515 [==============================] - 64s 43ms/step - loss: 0.6065 - accuracy: 0.8540\n",
      "Epoch 39/50\n",
      "1515/1515 [==============================] - 561s 371ms/step - loss: 0.6021 - accuracy: 0.8542\n",
      "Epoch 40/50\n",
      "1515/1515 [==============================] - 57s 38ms/step - loss: 0.5959 - accuracy: 0.8544\n",
      "Epoch 41/50\n",
      "1515/1515 [==============================] - 58s 38ms/step - loss: 0.5963 - accuracy: 0.8543\n",
      "Epoch 42/50\n",
      "1515/1515 [==============================] - 143s 95ms/step - loss: 0.5889 - accuracy: 0.8563\n",
      "Epoch 43/50\n",
      "1515/1515 [==============================] - 61s 40ms/step - loss: 0.5839 - accuracy: 0.8551\n",
      "Epoch 44/50\n",
      "1515/1515 [==============================] - 64s 42ms/step - loss: 0.5827 - accuracy: 0.8558\n",
      "Epoch 45/50\n",
      "1515/1515 [==============================] - 64s 42ms/step - loss: 0.5810 - accuracy: 0.8551\n",
      "Epoch 46/50\n",
      "1515/1515 [==============================] - 65s 43ms/step - loss: 0.5778 - accuracy: 0.8558\n",
      "Epoch 47/50\n",
      "1515/1515 [==============================] - 66s 44ms/step - loss: 0.5759 - accuracy: 0.8553\n",
      "Epoch 48/50\n",
      "1515/1515 [==============================] - 67s 44ms/step - loss: 0.5733 - accuracy: 0.8557\n",
      "Epoch 49/50\n",
      "1515/1515 [==============================] - 68s 45ms/step - loss: 0.5726 - accuracy: 0.8560\n",
      "Epoch 50/50\n",
      "1515/1515 [==============================] - 68s 45ms/step - loss: 0.5681 - accuracy: 0.8554\n",
      "<keras.src.engine.sequential.Sequential object at 0x175ba3a10>\n"
     ]
    }
   ],
   "source": [
    "model = Sequential()\n",
    "model.add(Embedding(total_words, 100, input_length=max_sequence_len-1))\n",
    "model.add(Bidirectional(LSTM(150)))\n",
    "model.add(Dense(total_words, activation='softmax'))\n",
    "adam = Adam(lr=0.01)\n",
    "model.compile(loss='categorical_crossentropy', optimizer=adam, metrics=['accuracy'])\n",
    "history = model.fit(xs, ys, epochs=50, verbose=1)\n",
    "#print model.summary()\n",
    "print(model)"
   ]
  },
  {
   "cell_type": "code",
   "execution_count": 12,
   "id": "6dbc98ef",
   "metadata": {},
   "outputs": [
    {
     "data": {
      "image/png": "[encoded data removed]",
      "text/plain": [
       "<Figure size 640x480 with 1 Axes>"
      ]
     },
     "metadata": {},
     "output_type": "display_data"
    }
   ],
   "source": [
    "import matplotlib.pyplot as plt\n",
    "\n",
    "\n",
    "def plot_graphs(history, string):\n",
    "    plt.plot(history.history[string])\n",
    "    plt.xlabel(\"Epochs\")\n",
    "    plt.ylabel(string)\n",
    "    plt.show()\n",
    "\n",
    "plot_graphs(history, 'accuracy')"
   ]
  },
  {
   "cell_type": "code",
   "execution_count": 13,
   "id": "b3a47fdb",
   "metadata": {},
   "outputs": [
    {
     "data": {
      "image/png": "[encoded data removed]",
      "text/plain": [
       "<Figure size 640x480 with 1 Axes>"
      ]
     },
     "metadata": {},
     "output_type": "display_data"
    }
   ],
   "source": [
    "plot_graphs(history, 'loss')"
   ]
  },
  {
   "cell_type": "code",
   "execution_count": null,
   "id": "7ca53ef4",
   "metadata": {},
   "outputs": [],
   "source": []
  }
 ],
 "metadata": {
  "kernelspec": {
   "display_name": "Python 3 (ipykernel)",
   "language": "python",
   "name": "python3"
  },
  "language_info": {
   "codemirror_mode": {
    "name": "ipython",
    "version": 3
   },
   "file_extension": ".py",
   "mimetype": "text/x-python",
   "name": "python",
   "nbconvert_exporter": "python",
   "pygments_lexer": "ipython3",
   "version": "3.11.5"
  }
 },
 "nbformat": 4,
 "nbformat_minor": 5
}
